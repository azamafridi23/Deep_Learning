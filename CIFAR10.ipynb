{
  "nbformat": 4,
  "nbformat_minor": 0,
  "metadata": {
    "colab": {
      "provenance": []
    },
    "kernelspec": {
      "name": "python3",
      "display_name": "Python 3"
    },
    "language_info": {
      "name": "python"
    },
    "accelerator": "GPU",
    "gpuClass": "standard"
  },
  "cells": [
    {
      "cell_type": "code",
      "execution_count": null,
      "metadata": {
        "id": "IBn7UXJ1bkY1"
      },
      "outputs": [],
      "source": [
        "import tensorflow as tf\n",
        "\n",
        "from tensorflow.keras import datasets, layers, models\n",
        "import matplotlib.pyplot as plt"
      ]
    },
    {
      "cell_type": "code",
      "source": [
        "(X_train, y_train), (X_test, y_test) = datasets.cifar10.load_data()\n",
        "#train_images.shape\n",
        "#test_images.shape"
      ],
      "metadata": {
        "colab": {
          "base_uri": "https://localhost:8080/"
        },
        "id": "OHI4iVslbnV3",
        "outputId": "fca686ee-b9e2-4779-c94d-97febbb7ea1a"
      },
      "execution_count": null,
      "outputs": [
        {
          "output_type": "stream",
          "name": "stdout",
          "text": [
            "Downloading data from https://www.cs.toronto.edu/~kriz/cifar-10-python.tar.gz\n",
            "170498071/170498071 [==============================] - 6s 0us/step\n"
          ]
        }
      ]
    },
    {
      "cell_type": "code",
      "source": [
        "y_train[0]"
      ],
      "metadata": {
        "colab": {
          "base_uri": "https://localhost:8080/"
        },
        "id": "5pRFXyQzcaKJ",
        "outputId": "02fae4c6-d158-4da4-86b7-a7899f61b8dc"
      },
      "execution_count": null,
      "outputs": [
        {
          "output_type": "execute_result",
          "data": {
            "text/plain": [
              "array([6], dtype=uint8)"
            ]
          },
          "metadata": {},
          "execution_count": 3
        }
      ]
    },
    {
      "cell_type": "code",
      "source": [
        "# one hot encode target values\n",
        "y_train = tf.keras.utils.to_categorical(y_train)\n",
        "y_test = tf.keras.utils.to_categorical(y_test)"
      ],
      "metadata": {
        "id": "amBjpRCwbyX9"
      },
      "execution_count": null,
      "outputs": []
    },
    {
      "cell_type": "code",
      "source": [
        "y_train[0]"
      ],
      "metadata": {
        "colab": {
          "base_uri": "https://localhost:8080/"
        },
        "id": "U8KoUQUhcchf",
        "outputId": "0ad445d0-0bb8-4a52-b05b-3d1f7fcc6654"
      },
      "execution_count": null,
      "outputs": [
        {
          "output_type": "execute_result",
          "data": {
            "text/plain": [
              "array([0., 0., 0., 0., 0., 0., 1., 0., 0., 0.], dtype=float32)"
            ]
          },
          "metadata": {},
          "execution_count": 5
        }
      ]
    },
    {
      "cell_type": "code",
      "source": [
        "'''A good starting point is to normalize the pixel values, e.g. rescale them to the range [0,1]. This involves first converting the data type from unsigned integers\n",
        "to floats, then dividing the pixel values by the maximum value.'''\n",
        "# convert from integers to floats\n",
        "train_norm = X_train.astype('float32')\n",
        "test_norm = X_test.astype('float32')\n",
        "# normalize to range 0-1\n",
        "X_train = train_norm / 255.0\n",
        "X_test = test_norm / 255.0"
      ],
      "metadata": {
        "id": "xaY2uIoZcd9U"
      },
      "execution_count": null,
      "outputs": []
    },
    {
      "cell_type": "code",
      "source": [
        "'''We will create a single figure with two subplots, one for loss and one for accuracy. The blue lines will indicate model performance on the training dataset and\n",
        "orange lines will indicate performance on the hold out test dataset. The summarize_diagnostics() function below creates and shows this plot given the collected\n",
        " training histories. The plot is saved to file, specifically a file with the same name as the script with a ‘png‘ extension.'''\n",
        "import matplotlib.pyplot as plt\n",
        "# Plot the validation and training data separately\n",
        "def plot_loss_curves(history):\n",
        "  \"\"\"\n",
        "  Returns separate loss curves for training and validation metrics.\n",
        "  \"\"\" \n",
        "  loss = history.history['loss']\n",
        "  val_loss = history.history['val_loss']\n",
        "\n",
        "  accuracy = history.history['accuracy']\n",
        "  val_accuracy = history.history['val_accuracy']\n",
        "\n",
        "  epochs = range(len(history.history['loss']))\n",
        "\n",
        "  # Plot loss\n",
        "  plt.plot(epochs, loss, label='training_loss')\n",
        "  plt.plot(epochs, val_loss, label='val_loss')\n",
        "  plt.title('Loss')\n",
        "  plt.xlabel('Epochs')\n",
        "  plt.legend()\n",
        "\n",
        "  # Plot accuracy\n",
        "  plt.figure()\n",
        "  plt.plot(epochs, accuracy, label='training_accuracy')\n",
        "  plt.plot(epochs, val_accuracy, label='val_accuracy')\n",
        "  plt.title('Accuracy')\n",
        "  plt.xlabel('Epochs')\n",
        "  plt.legend();"
      ],
      "metadata": {
        "id": "ma97WV47c-Gm"
      },
      "execution_count": null,
      "outputs": []
    },
    {
      "cell_type": "code",
      "source": [
        "# define cnn model\n",
        "def define_model():\n",
        "\tmodel = tf.keras.models.Sequential()                   # He weight initialization,\n",
        "\tmodel.add(layers.Conv2D(32, (3, 3), activation='relu', kernel_initializer='he_uniform', padding='same', input_shape=(32, 32, 3)))\n",
        "\tmodel.add(layers.Conv2D(32, (3, 3), activation='relu', kernel_initializer='he_uniform', padding='same'))\n",
        "\tmodel.add(layers.MaxPooling2D((2, 2)))\n",
        "\tmodel.add(layers.Flatten())\n",
        "\tmodel.add(layers.Dense(128, activation='relu', kernel_initializer='he_uniform'))\n",
        "\tmodel.add(layers.Dense(10, activation='softmax'))\n",
        "\t# compile model\n",
        "\topt = tf.keras.optimizers.Adam()\n",
        "\tmodel.compile(optimizer=opt, loss='categorical_crossentropy', metrics=['accuracy'])\n",
        "\treturn model"
      ],
      "metadata": {
        "id": "ZqQS6dUYeAZl"
      },
      "execution_count": null,
      "outputs": []
    },
    {
      "cell_type": "code",
      "source": [
        "model1=define_model()\n",
        "history = model1.fit(X_train, y_train, epochs=15, batch_size=64, validation_data=(X_test, y_test))"
      ],
      "metadata": {
        "colab": {
          "base_uri": "https://localhost:8080/"
        },
        "id": "gOmUN4TvfQf0",
        "outputId": "5f19fe57-ecdb-467e-c2e9-4f556a490b81"
      },
      "execution_count": null,
      "outputs": [
        {
          "output_type": "stream",
          "name": "stdout",
          "text": [
            "Epoch 1/15\n",
            "782/782 [==============================] - 16s 10ms/step - loss: 1.7015 - accuracy: 0.3745 - val_loss: 1.3721 - val_accuracy: 0.4945\n",
            "Epoch 2/15\n",
            "782/782 [==============================] - 7s 10ms/step - loss: 1.2567 - accuracy: 0.5507 - val_loss: 1.0953 - val_accuracy: 0.6107\n",
            "Epoch 3/15\n",
            "782/782 [==============================] - 9s 11ms/step - loss: 1.0213 - accuracy: 0.6391 - val_loss: 0.9078 - val_accuracy: 0.6785\n",
            "Epoch 4/15\n",
            "782/782 [==============================] - 7s 9ms/step - loss: 0.8832 - accuracy: 0.6910 - val_loss: 0.8190 - val_accuracy: 0.7146\n",
            "Epoch 5/15\n",
            "782/782 [==============================] - 7s 9ms/step - loss: 0.7915 - accuracy: 0.7231 - val_loss: 0.7278 - val_accuracy: 0.7491\n",
            "Epoch 6/15\n",
            "782/782 [==============================] - 7s 9ms/step - loss: 0.7316 - accuracy: 0.7449 - val_loss: 0.7038 - val_accuracy: 0.7540\n",
            "Epoch 7/15\n",
            "782/782 [==============================] - 7s 9ms/step - loss: 0.6775 - accuracy: 0.7647 - val_loss: 0.6700 - val_accuracy: 0.7715\n",
            "Epoch 8/15\n",
            "782/782 [==============================] - 7s 9ms/step - loss: 0.6440 - accuracy: 0.7749 - val_loss: 0.6554 - val_accuracy: 0.7771\n",
            "Epoch 9/15\n",
            "782/782 [==============================] - 7s 9ms/step - loss: 0.6013 - accuracy: 0.7888 - val_loss: 0.6369 - val_accuracy: 0.7823\n",
            "Epoch 10/15\n",
            "782/782 [==============================] - 7s 9ms/step - loss: 0.5743 - accuracy: 0.7991 - val_loss: 0.6647 - val_accuracy: 0.7802\n",
            "Epoch 11/15\n",
            "782/782 [==============================] - 8s 10ms/step - loss: 0.5463 - accuracy: 0.8084 - val_loss: 0.6585 - val_accuracy: 0.7785\n",
            "Epoch 12/15\n",
            "782/782 [==============================] - 7s 9ms/step - loss: 0.5291 - accuracy: 0.8155 - val_loss: 0.6583 - val_accuracy: 0.7851\n",
            "Epoch 13/15\n",
            "782/782 [==============================] - 7s 9ms/step - loss: 0.5097 - accuracy: 0.8214 - val_loss: 0.6302 - val_accuracy: 0.7922\n",
            "Epoch 14/15\n",
            "782/782 [==============================] - 7s 9ms/step - loss: 0.4936 - accuracy: 0.8285 - val_loss: 0.6071 - val_accuracy: 0.8050\n",
            "Epoch 15/15\n",
            "782/782 [==============================] - 7s 9ms/step - loss: 0.4717 - accuracy: 0.8346 - val_loss: 0.6126 - val_accuracy: 0.8020\n"
          ]
        }
      ]
    },
    {
      "cell_type": "code",
      "source": [
        "plot_loss_curves(history)"
      ],
      "metadata": {
        "colab": {
          "base_uri": "https://localhost:8080/",
          "height": 573
        },
        "id": "IQjw5JAWfT4J",
        "outputId": "a105181c-890c-492a-e16d-71320be6274a"
      },
      "execution_count": null,
      "outputs": [
        {
          "output_type": "display_data",
          "data": {
            "text/plain": [
              "<Figure size 432x288 with 1 Axes>"
            ],
            "image/png": "[encoded data removed]"
          },
          "metadata": {
            "needs_background": "light"
          }
        },
        {
          "output_type": "display_data",
          "data": {
            "text/plain": [
              "<Figure size 432x288 with 1 Axes>"
            ],
            "image/png": "[encoded data removed]"
          },
          "metadata": {
            "needs_background": "light"
          }
        }
      ]
    },
    {
      "cell_type": "code",
      "source": [
        "''' Dropout can be added to the model by adding new Dropout layers, where the amount of nodes removed is specified as a parameter. There are many patterns for adding Dropout to a model, in terms of where in the model to add the layers and how much dropout to use.\n",
        "\n",
        "In this case, we will add Dropout layers after each max pooling layer and after the fully connected layer, and use a fixed dropout rate of 20% (e.g. retain 80% of the nodes).'''\n",
        "\n",
        "''' Dropout in NN: https://machinelearningmastery.com/dropout-for-regularizing-deep-neural-networks/ \n",
        "'''\n",
        "# define cnn model\n",
        "def define_model():\n",
        "\tmodel = tf.keras.models.Sequential()\n",
        "\tmodel.add(layers.Conv2D(32, (3, 3), activation='relu', kernel_initializer='he_uniform', padding='same', input_shape=(32, 32, 3)))\n",
        "\tmodel.add(layers.Conv2D(32, (3, 3), activation='relu', kernel_initializer='he_uniform', padding='same'))\n",
        "\tmodel.add(layers.MaxPooling2D((2, 2)))\n",
        "\tmodel.add(layers.Dropout(0.2))\n",
        "\tmodel.add(layers.Conv2D(64, (3, 3), activation='relu', kernel_initializer='he_uniform', padding='same'))\n",
        "\tmodel.add(layers.Conv2D(64, (3, 3), activation='relu', kernel_initializer='he_uniform', padding='same'))\n",
        "\tmodel.add(layers.MaxPooling2D((2, 2)))\n",
        "\tmodel.add(layers.Dropout(0.2))\n",
        "\tmodel.add(layers.Conv2D(128, (3, 3), activation='relu', kernel_initializer='he_uniform', padding='same'))\n",
        "\tmodel.add(layers.Conv2D(128, (3, 3), activation='relu', kernel_initializer='he_uniform', padding='same'))\n",
        "\tmodel.add(layers.MaxPooling2D((2, 2)))\n",
        "\tmodel.add(layers.Dropout(0.2))\n",
        "\tmodel.add(layers.Flatten())\n",
        "\tmodel.add(layers.Dense(128, activation='relu', kernel_initializer='he_uniform'))\n",
        "\tmodel.add(layers.Dropout(0.2))\n",
        "\tmodel.add(layers.Dense(10, activation='softmax'))\n",
        "\t# compile model\n",
        "\topt = tf.keras.optimizers.Adam()\n",
        "\tmodel.compile(optimizer=opt, loss='categorical_crossentropy', metrics=['accuracy'])\n",
        "\treturn model"
      ],
      "metadata": {
        "id": "48mmBfCRgt9o"
      },
      "execution_count": null,
      "outputs": []
    },
    {
      "cell_type": "code",
      "source": [
        "model2=define_model()"
      ],
      "metadata": {
        "id": "mlokzCZbNZ6y"
      },
      "execution_count": null,
      "outputs": []
    },
    {
      "cell_type": "code",
      "source": [
        "model2.summary()"
      ],
      "metadata": {
        "colab": {
          "base_uri": "https://localhost:8080/"
        },
        "id": "W6tU-6SxNdbc",
        "outputId": "9216e0f6-4dcb-449e-ddb8-78ee5df0a6ae"
      },
      "execution_count": null,
      "outputs": [
        {
          "output_type": "stream",
          "name": "stdout",
          "text": [
            "Model: \"sequential\"\n",
            "_________________________________________________________________\n",
            " Layer (type)                Output Shape              Param #   \n",
            "=================================================================\n",
            " conv2d (Conv2D)             (None, 32, 32, 32)        896       \n",
            "                                                                 \n",
            " conv2d_1 (Conv2D)           (None, 32, 32, 32)        9248      \n",
            "                                                                 \n",
            " max_pooling2d (MaxPooling2D  (None, 16, 16, 32)       0         \n",
            " )                                                               \n",
            "                                                                 \n",
            " dropout (Dropout)           (None, 16, 16, 32)        0         \n",
            "                                                                 \n",
            " conv2d_2 (Conv2D)           (None, 16, 16, 64)        18496     \n",
            "                                                                 \n",
            " conv2d_3 (Conv2D)           (None, 16, 16, 64)        36928     \n",
            "                                                                 \n",
            " max_pooling2d_1 (MaxPooling  (None, 8, 8, 64)         0         \n",
            " 2D)                                                             \n",
            "                                                                 \n",
            " dropout_1 (Dropout)         (None, 8, 8, 64)          0         \n",
            "                                                                 \n",
            " conv2d_4 (Conv2D)           (None, 8, 8, 128)         73856     \n",
            "                                                                 \n",
            " conv2d_5 (Conv2D)           (None, 8, 8, 128)         147584    \n",
            "                                                                 \n",
            " max_pooling2d_2 (MaxPooling  (None, 4, 4, 128)        0         \n",
            " 2D)                                                             \n",
            "                                                                 \n",
            " dropout_2 (Dropout)         (None, 4, 4, 128)         0         \n",
            "                                                                 \n",
            " flatten (Flatten)           (None, 2048)              0         \n",
            "                                                                 \n",
            " dense (Dense)               (None, 128)               262272    \n",
            "                                                                 \n",
            " dropout_3 (Dropout)         (None, 128)               0         \n",
            "                                                                 \n",
            " dense_1 (Dense)             (None, 10)                1290      \n",
            "                                                                 \n",
            "=================================================================\n",
            "Total params: 550,570\n",
            "Trainable params: 550,570\n",
            "Non-trainable params: 0\n",
            "_________________________________________________________________\n"
          ]
        }
      ]
    },
    {
      "cell_type": "code",
      "source": [
        "\n",
        "history = model2.fit(X_train, y_train, epochs=50, batch_size=64, validation_data=(X_test, y_test))"
      ],
      "metadata": {
        "colab": {
          "base_uri": "https://localhost:8080/"
        },
        "id": "ip1x_5mQjpTO",
        "outputId": "0915737b-2cef-47e3-86ad-57724febc458"
      },
      "execution_count": null,
      "outputs": [
        {
          "output_type": "stream",
          "name": "stdout",
          "text": [
            "Epoch 1/50\n",
            "782/782 [==============================] - 9s 10ms/step - loss: 1.6637 - accuracy: 0.3829 - val_loss: 1.2948 - val_accuracy: 0.5368\n",
            "Epoch 2/50\n",
            "782/782 [==============================] - 7s 9ms/step - loss: 1.2192 - accuracy: 0.5655 - val_loss: 1.0348 - val_accuracy: 0.6346\n",
            "Epoch 3/50\n",
            "782/782 [==============================] - 7s 9ms/step - loss: 1.0098 - accuracy: 0.6419 - val_loss: 0.8918 - val_accuracy: 0.6860\n",
            "Epoch 4/50\n",
            "782/782 [==============================] - 7s 9ms/step - loss: 0.8936 - accuracy: 0.6868 - val_loss: 0.8575 - val_accuracy: 0.6968\n",
            "Epoch 5/50\n",
            "782/782 [==============================] - 7s 9ms/step - loss: 0.8081 - accuracy: 0.7160 - val_loss: 0.7714 - val_accuracy: 0.7330\n",
            "Epoch 6/50\n",
            "782/782 [==============================] - 7s 9ms/step - loss: 0.7401 - accuracy: 0.7410 - val_loss: 0.7189 - val_accuracy: 0.7540\n",
            "Epoch 7/50\n",
            "782/782 [==============================] - 7s 9ms/step - loss: 0.6855 - accuracy: 0.7586 - val_loss: 0.6912 - val_accuracy: 0.7643\n",
            "Epoch 8/50\n",
            "782/782 [==============================] - 7s 9ms/step - loss: 0.6348 - accuracy: 0.7771 - val_loss: 0.6861 - val_accuracy: 0.7683\n",
            "Epoch 9/50\n",
            "782/782 [==============================] - 7s 9ms/step - loss: 0.6002 - accuracy: 0.7887 - val_loss: 0.6882 - val_accuracy: 0.7672\n",
            "Epoch 10/50\n",
            "782/782 [==============================] - 7s 9ms/step - loss: 0.5733 - accuracy: 0.7973 - val_loss: 0.6582 - val_accuracy: 0.7768\n",
            "Epoch 11/50\n",
            "782/782 [==============================] - 7s 9ms/step - loss: 0.5444 - accuracy: 0.8091 - val_loss: 0.6542 - val_accuracy: 0.7830\n",
            "Epoch 12/50\n",
            "782/782 [==============================] - 7s 9ms/step - loss: 0.5177 - accuracy: 0.8163 - val_loss: 0.6743 - val_accuracy: 0.7755\n",
            "Epoch 13/50\n",
            "782/782 [==============================] - 7s 9ms/step - loss: 0.4978 - accuracy: 0.8241 - val_loss: 0.6364 - val_accuracy: 0.7914\n",
            "Epoch 14/50\n",
            "782/782 [==============================] - 7s 9ms/step - loss: 0.4800 - accuracy: 0.8305 - val_loss: 0.6186 - val_accuracy: 0.7974\n",
            "Epoch 15/50\n",
            "782/782 [==============================] - 7s 9ms/step - loss: 0.4620 - accuracy: 0.8353 - val_loss: 0.6689 - val_accuracy: 0.7842\n",
            "Epoch 16/50\n",
            "782/782 [==============================] - 7s 9ms/step - loss: 0.4461 - accuracy: 0.8420 - val_loss: 0.6667 - val_accuracy: 0.7923\n",
            "Epoch 17/50\n",
            "782/782 [==============================] - 7s 9ms/step - loss: 0.4313 - accuracy: 0.8452 - val_loss: 0.6232 - val_accuracy: 0.7984\n",
            "Epoch 18/50\n",
            "782/782 [==============================] - 7s 9ms/step - loss: 0.4220 - accuracy: 0.8512 - val_loss: 0.6902 - val_accuracy: 0.7841\n",
            "Epoch 19/50\n",
            "782/782 [==============================] - 7s 9ms/step - loss: 0.4167 - accuracy: 0.8512 - val_loss: 0.6314 - val_accuracy: 0.7950\n",
            "Epoch 20/50\n",
            "782/782 [==============================] - 7s 9ms/step - loss: 0.3941 - accuracy: 0.8598 - val_loss: 0.6447 - val_accuracy: 0.8033\n",
            "Epoch 21/50\n",
            "782/782 [==============================] - 7s 9ms/step - loss: 0.3850 - accuracy: 0.8611 - val_loss: 0.6572 - val_accuracy: 0.8002\n",
            "Epoch 22/50\n",
            "782/782 [==============================] - 7s 9ms/step - loss: 0.3798 - accuracy: 0.8641 - val_loss: 0.6371 - val_accuracy: 0.8024\n",
            "Epoch 23/50\n",
            "782/782 [==============================] - 7s 9ms/step - loss: 0.3735 - accuracy: 0.8654 - val_loss: 0.6716 - val_accuracy: 0.8035\n",
            "Epoch 24/50\n",
            "782/782 [==============================] - 7s 9ms/step - loss: 0.3654 - accuracy: 0.8696 - val_loss: 0.6248 - val_accuracy: 0.8039\n",
            "Epoch 25/50\n",
            "782/782 [==============================] - 7s 9ms/step - loss: 0.3574 - accuracy: 0.8732 - val_loss: 0.6327 - val_accuracy: 0.8069\n",
            "Epoch 26/50\n",
            "782/782 [==============================] - 7s 9ms/step - loss: 0.3458 - accuracy: 0.8760 - val_loss: 0.7008 - val_accuracy: 0.7976\n",
            "Epoch 27/50\n",
            "782/782 [==============================] - 7s 9ms/step - loss: 0.3354 - accuracy: 0.8819 - val_loss: 0.6799 - val_accuracy: 0.7975\n",
            "Epoch 28/50\n",
            "782/782 [==============================] - 7s 9ms/step - loss: 0.3399 - accuracy: 0.8794 - val_loss: 0.6534 - val_accuracy: 0.8073\n",
            "Epoch 29/50\n",
            "782/782 [==============================] - 7s 9ms/step - loss: 0.3302 - accuracy: 0.8846 - val_loss: 0.6518 - val_accuracy: 0.8075\n",
            "Epoch 30/50\n",
            "782/782 [==============================] - 7s 9ms/step - loss: 0.3225 - accuracy: 0.8846 - val_loss: 0.6563 - val_accuracy: 0.8045\n",
            "Epoch 31/50\n",
            "782/782 [==============================] - 7s 9ms/step - loss: 0.3204 - accuracy: 0.8856 - val_loss: 0.6783 - val_accuracy: 0.7997\n",
            "Epoch 32/50\n",
            "782/782 [==============================] - 7s 8ms/step - loss: 0.3108 - accuracy: 0.8894 - val_loss: 0.6602 - val_accuracy: 0.8106\n",
            "Epoch 33/50\n",
            "782/782 [==============================] - 7s 9ms/step - loss: 0.3109 - accuracy: 0.8913 - val_loss: 0.6596 - val_accuracy: 0.8057\n",
            "Epoch 34/50\n",
            "782/782 [==============================] - 7s 9ms/step - loss: 0.3098 - accuracy: 0.8895 - val_loss: 0.6996 - val_accuracy: 0.8064\n",
            "Epoch 35/50\n",
            "782/782 [==============================] - 7s 9ms/step - loss: 0.3022 - accuracy: 0.8931 - val_loss: 0.6429 - val_accuracy: 0.8055\n",
            "Epoch 36/50\n",
            "782/782 [==============================] - 7s 9ms/step - loss: 0.2980 - accuracy: 0.8956 - val_loss: 0.6869 - val_accuracy: 0.8065\n",
            "Epoch 37/50\n",
            "782/782 [==============================] - 8s 10ms/step - loss: 0.2903 - accuracy: 0.8949 - val_loss: 0.6993 - val_accuracy: 0.8073\n",
            "Epoch 38/50\n",
            "782/782 [==============================] - 7s 9ms/step - loss: 0.2936 - accuracy: 0.8964 - val_loss: 0.7110 - val_accuracy: 0.8005\n",
            "Epoch 39/50\n",
            "782/782 [==============================] - 7s 9ms/step - loss: 0.2840 - accuracy: 0.8980 - val_loss: 0.6967 - val_accuracy: 0.8083\n",
            "Epoch 40/50\n",
            "782/782 [==============================] - 7s 9ms/step - loss: 0.2861 - accuracy: 0.8998 - val_loss: 0.6806 - val_accuracy: 0.8076\n",
            "Epoch 41/50\n",
            "782/782 [==============================] - 7s 9ms/step - loss: 0.2848 - accuracy: 0.8992 - val_loss: 0.6719 - val_accuracy: 0.8112\n",
            "Epoch 42/50\n",
            "782/782 [==============================] - 7s 9ms/step - loss: 0.2796 - accuracy: 0.9019 - val_loss: 0.7345 - val_accuracy: 0.7947\n",
            "Epoch 43/50\n",
            "782/782 [==============================] - 7s 9ms/step - loss: 0.2779 - accuracy: 0.9016 - val_loss: 0.7030 - val_accuracy: 0.8098\n",
            "Epoch 44/50\n",
            "782/782 [==============================] - 7s 9ms/step - loss: 0.2877 - accuracy: 0.8989 - val_loss: 0.6897 - val_accuracy: 0.8041\n",
            "Epoch 45/50\n",
            "782/782 [==============================] - 7s 9ms/step - loss: 0.2713 - accuracy: 0.9044 - val_loss: 0.6805 - val_accuracy: 0.8111\n",
            "Epoch 46/50\n",
            "782/782 [==============================] - 7s 9ms/step - loss: 0.2741 - accuracy: 0.9030 - val_loss: 0.6787 - val_accuracy: 0.8089\n",
            "Epoch 47/50\n",
            "782/782 [==============================] - 7s 9ms/step - loss: 0.2696 - accuracy: 0.9057 - val_loss: 0.6969 - val_accuracy: 0.8117\n",
            "Epoch 48/50\n",
            "782/782 [==============================] - 7s 9ms/step - loss: 0.2676 - accuracy: 0.9069 - val_loss: 0.6834 - val_accuracy: 0.8115\n",
            "Epoch 49/50\n",
            "782/782 [==============================] - 8s 10ms/step - loss: 0.2553 - accuracy: 0.9108 - val_loss: 0.6902 - val_accuracy: 0.8088\n",
            "Epoch 50/50\n",
            "782/782 [==============================] - 7s 9ms/step - loss: 0.2671 - accuracy: 0.9077 - val_loss: 0.6951 - val_accuracy: 0.8107\n"
          ]
        }
      ]
    },
    {
      "cell_type": "code",
      "source": [
        "plot_loss_curves(history)"
      ],
      "metadata": {
        "colab": {
          "base_uri": "https://localhost:8080/",
          "height": 573
        },
        "id": "Y7GhcaeLkw3M",
        "outputId": "673a289a-c16f-4587-a002-680911a15d57"
      },
      "execution_count": null,
      "outputs": [
        {
          "output_type": "display_data",
          "data": {
            "text/plain": [
              "<Figure size 432x288 with 1 Axes>"
            ],
            "image/png": "[encoded data removed]"
          },
          "metadata": {
            "needs_background": "light"
          }
        },
        {
          "output_type": "display_data",
          "data": {
            "text/plain": [
              "<Figure size 432x288 with 1 Axes>"
            ],
            "image/png": "[encoded data removed]"
          },
          "metadata": {
            "needs_background": "light"
          }
        }
      ]
    },
    {
      "cell_type": "code",
      "source": [
        "# DATA AUG:\n",
        "from keras.preprocessing.image import ImageDataGenerator\n",
        "# create data generator\n",
        "datagen = ImageDataGenerator(width_shift_range=0.1, height_shift_range=0.1, horizontal_flip=True)\n",
        "# prepare iterator\n",
        "it_train = datagen.flow(X_train, y_train, batch_size=64)"
      ],
      "metadata": {
        "id": "rawPISh-lWnX"
      },
      "execution_count": null,
      "outputs": []
    },
    {
      "cell_type": "code",
      "source": [
        "# fit model\n",
        "steps = int(X_train.shape[0] / 64)\n",
        "history = model2.fit_generator(it_train, steps_per_epoch=steps, epochs=20, validation_data=(X_test, y_test))"
      ],
      "metadata": {
        "id": "I3gANfKyn8it"
      },
      "execution_count": null,
      "outputs": []
    },
    {
      "cell_type": "code",
      "source": [
        "# define cnn model\n",
        "\n",
        "def define_model():\n",
        "\tmodel = tf.keras.models.Sequential()\n",
        "\tmodel.add(layers.Conv2D(32, (3, 3), activation='relu', kernel_initializer='he_uniform', padding='same', input_shape=(32, 32, 3)))\n",
        "\tmodel.add(layers.BatchNormalization())\n",
        "\tmodel.add(layers.Conv2D(32, (3, 3), activation='relu', kernel_initializer='he_uniform', padding='same'))\n",
        "\tmodel.add(layers.BatchNormalization())\n",
        "\tmodel.add(layers.MaxPooling2D((2, 2)))\n",
        "\tmodel.add(layers.Dropout(0.2))\n",
        "\tmodel.add(layers.Conv2D(64, (3, 3), activation='relu', kernel_initializer='he_uniform', padding='same'))\n",
        "\tmodel.add(layers.BatchNormalization())\n",
        "\tmodel.add(layers.Conv2D(64, (3, 3), activation='relu', kernel_initializer='he_uniform', padding='same'))\n",
        "\tmodel.add(layers.BatchNormalization())\n",
        "\tmodel.add(layers.MaxPooling2D((2, 2)))\n",
        "\tmodel.add(layers.Dropout(0.3))\n",
        "\tmodel.add(layers.Conv2D(128, (3, 3), activation='relu', kernel_initializer='he_uniform', padding='same'))\n",
        "\tmodel.add(layers.BatchNormalization())\n",
        "\tmodel.add(layers.Conv2D(128, (3, 3), activation='relu', kernel_initializer='he_uniform', padding='same'))\n",
        "\tmodel.add(layers.BatchNormalization())\n",
        "\tmodel.add(layers.MaxPooling2D((2, 2)))\n",
        "\tmodel.add(layers.Dropout(0.4))\n",
        "\tmodel.add(layers.Flatten())\n",
        "\tmodel.add(layers.Dense(128, activation='relu', kernel_initializer='he_uniform'))\n",
        "\tmodel.add(layers.BatchNormalization())\n",
        "\tmodel.add(layers.Dropout(0.5))\n",
        "\tmodel.add(layers.Dense(10, activation='softmax'))\n",
        "\t# compile model\n",
        "\topt = tf.keras.optimizers.Adam()\n",
        "\tmodel.compile(optimizer=opt, loss='categorical_crossentropy', metrics=['accuracy'])\n",
        "\treturn model"
      ],
      "metadata": {
        "id": "dr4K7VdPoft2"
      },
      "execution_count": null,
      "outputs": []
    },
    {
      "cell_type": "code",
      "source": [
        "model3=define_model()"
      ],
      "metadata": {
        "id": "oAMTgmIasYQ-"
      },
      "execution_count": null,
      "outputs": []
    },
    {
      "cell_type": "code",
      "source": [
        "# fit model\n",
        "steps = int(X_train.shape[0] / 64)\n",
        "history = model3.fit_generator(it_train, steps_per_epoch=steps, epochs=20, validation_data=(X_test, y_test))"
      ],
      "metadata": {
        "colab": {
          "base_uri": "https://localhost:8080/"
        },
        "id": "nDETZ0YusRQz",
        "outputId": "f02807f6-ecf7-4d0a-bfdb-3827aa03307c"
      },
      "execution_count": null,
      "outputs": [
        {
          "output_type": "stream",
          "name": "stdout",
          "text": [
            "Epoch 1/20\n"
          ]
        },
        {
          "output_type": "stream",
          "name": "stderr",
          "text": [
            "<ipython-input-59-41613ac0c342>:3: UserWarning: `Model.fit_generator` is deprecated and will be removed in a future version. Please use `Model.fit`, which supports generators.\n",
            "  history = model3.fit_generator(it_train, steps_per_epoch=steps, epochs=20, validation_data=(X_test, y_test))\n"
          ]
        },
        {
          "output_type": "stream",
          "name": "stdout",
          "text": [
            "781/781 [==============================] - 31s 38ms/step - loss: 1.7276 - accuracy: 0.4038 - val_loss: 1.2154 - val_accuracy: 0.5653\n",
            "Epoch 2/20\n",
            "781/781 [==============================] - 27s 35ms/step - loss: 1.2450 - accuracy: 0.5537 - val_loss: 1.1432 - val_accuracy: 0.5974\n",
            "Epoch 3/20\n",
            "781/781 [==============================] - 29s 36ms/step - loss: 1.0731 - accuracy: 0.6191 - val_loss: 1.1998 - val_accuracy: 0.5961\n",
            "Epoch 4/20\n",
            "781/781 [==============================] - 29s 37ms/step - loss: 0.9576 - accuracy: 0.6626 - val_loss: 0.8569 - val_accuracy: 0.7018\n",
            "Epoch 5/20\n",
            "781/781 [==============================] - 29s 38ms/step - loss: 0.8774 - accuracy: 0.6947 - val_loss: 0.7500 - val_accuracy: 0.7356\n",
            "Epoch 6/20\n",
            "781/781 [==============================] - 30s 38ms/step - loss: 0.8148 - accuracy: 0.7179 - val_loss: 0.7802 - val_accuracy: 0.7315\n",
            "Epoch 7/20\n",
            "781/781 [==============================] - 28s 36ms/step - loss: 0.7677 - accuracy: 0.7350 - val_loss: 0.6628 - val_accuracy: 0.7747\n",
            "Epoch 8/20\n",
            "781/781 [==============================] - 28s 36ms/step - loss: 0.7259 - accuracy: 0.7488 - val_loss: 0.6823 - val_accuracy: 0.7667\n",
            "Epoch 9/20\n",
            "781/781 [==============================] - 28s 35ms/step - loss: 0.6923 - accuracy: 0.7611 - val_loss: 0.6695 - val_accuracy: 0.7693\n",
            "Epoch 10/20\n",
            "781/781 [==============================] - 28s 36ms/step - loss: 0.6640 - accuracy: 0.7720 - val_loss: 0.6274 - val_accuracy: 0.7873\n",
            "Epoch 11/20\n",
            "781/781 [==============================] - 29s 38ms/step - loss: 0.6410 - accuracy: 0.7808 - val_loss: 0.5711 - val_accuracy: 0.8075\n",
            "Epoch 12/20\n",
            "781/781 [==============================] - 29s 37ms/step - loss: 0.6200 - accuracy: 0.7886 - val_loss: 0.5351 - val_accuracy: 0.8226\n",
            "Epoch 13/20\n",
            "781/781 [==============================] - 30s 38ms/step - loss: 0.6009 - accuracy: 0.7937 - val_loss: 0.5169 - val_accuracy: 0.8227\n",
            "Epoch 14/20\n",
            "781/781 [==============================] - 30s 38ms/step - loss: 0.5868 - accuracy: 0.8014 - val_loss: 0.5776 - val_accuracy: 0.8076\n",
            "Epoch 15/20\n",
            "781/781 [==============================] - 31s 40ms/step - loss: 0.5710 - accuracy: 0.8070 - val_loss: 0.4852 - val_accuracy: 0.8352\n",
            "Epoch 16/20\n",
            "781/781 [==============================] - 30s 39ms/step - loss: 0.5536 - accuracy: 0.8135 - val_loss: 0.5017 - val_accuracy: 0.8312\n",
            "Epoch 17/20\n",
            "781/781 [==============================] - 28s 36ms/step - loss: 0.5427 - accuracy: 0.8179 - val_loss: 0.5504 - val_accuracy: 0.8163\n",
            "Epoch 18/20\n",
            "781/781 [==============================] - 28s 36ms/step - loss: 0.5354 - accuracy: 0.8191 - val_loss: 0.4868 - val_accuracy: 0.8347\n",
            "Epoch 19/20\n",
            "781/781 [==============================] - 28s 36ms/step - loss: 0.5320 - accuracy: 0.8210 - val_loss: 0.5031 - val_accuracy: 0.8281\n",
            "Epoch 20/20\n",
            "781/781 [==============================] - 27s 34ms/step - loss: 0.5121 - accuracy: 0.8275 - val_loss: 0.4636 - val_accuracy: 0.8454\n"
          ]
        }
      ]
    },
    {
      "cell_type": "code",
      "source": [
        "plot_loss_curves(history)"
      ],
      "metadata": {
        "colab": {
          "base_uri": "https://localhost:8080/",
          "height": 573
        },
        "id": "KLx-uM15scrv",
        "outputId": "856ad1f6-75e8-45aa-c14e-3a26bd9067cf"
      },
      "execution_count": null,
      "outputs": [
        {
          "output_type": "display_data",
          "data": {
            "text/plain": [
              "<Figure size 432x288 with 1 Axes>"
            ],
            "image/png": "[encoded data removed]"
          },
          "metadata": {
            "needs_background": "light"
          }
        },
        {
          "output_type": "display_data",
          "data": {
            "text/plain": [
              "<Figure size 432x288 with 1 Axes>"
            ],
            "image/png": "[encoded data removed]"
          },
          "metadata": {
            "needs_background": "light"
          }
        }
      ]
    },
    {
      "cell_type": "code",
      "source": [
        "# fit model\n",
        "steps = int(X_train.shape[0] / 64)\n",
        "history = model3.fit_generator(it_train, steps_per_epoch=steps, epochs=50, validation_data=(X_test, y_test))"
      ],
      "metadata": {
        "id": "c4LsJ6un2TWp",
        "colab": {
          "base_uri": "https://localhost:8080/"
        },
        "outputId": "db690473-a7e0-4093-e4e3-351414c561e5"
      },
      "execution_count": null,
      "outputs": [
        {
          "output_type": "stream",
          "name": "stdout",
          "text": [
            "Epoch 1/50\n"
          ]
        },
        {
          "output_type": "stream",
          "name": "stderr",
          "text": [
            "<ipython-input-17-845cc35f33e4>:3: UserWarning: `Model.fit_generator` is deprecated and will be removed in a future version. Please use `Model.fit`, which supports generators.\n",
            "  history = model3.fit_generator(it_train, steps_per_epoch=steps, epochs=50, validation_data=(X_test, y_test))\n"
          ]
        },
        {
          "output_type": "stream",
          "name": "stdout",
          "text": [
            "781/781 [==============================] - 29s 36ms/step - loss: 1.7997 - accuracy: 0.3786 - val_loss: 1.4788 - val_accuracy: 0.4807\n",
            "Epoch 2/50\n",
            "781/781 [==============================] - 29s 37ms/step - loss: 1.2709 - accuracy: 0.5417 - val_loss: 1.1245 - val_accuracy: 0.6059\n",
            "Epoch 3/50\n",
            "781/781 [==============================] - 28s 36ms/step - loss: 1.1028 - accuracy: 0.6086 - val_loss: 0.8600 - val_accuracy: 0.6928\n",
            "Epoch 4/50\n",
            "781/781 [==============================] - 28s 36ms/step - loss: 0.9720 - accuracy: 0.6574 - val_loss: 0.8035 - val_accuracy: 0.7158\n",
            "Epoch 5/50\n",
            "781/781 [==============================] - 28s 35ms/step - loss: 0.8843 - accuracy: 0.6949 - val_loss: 0.8124 - val_accuracy: 0.7162\n",
            "Epoch 6/50\n",
            "781/781 [==============================] - 28s 36ms/step - loss: 0.8133 - accuracy: 0.7168 - val_loss: 0.8406 - val_accuracy: 0.7134\n",
            "Epoch 7/50\n",
            "781/781 [==============================] - 28s 36ms/step - loss: 0.7728 - accuracy: 0.7324 - val_loss: 0.6614 - val_accuracy: 0.7734\n",
            "Epoch 8/50\n",
            "781/781 [==============================] - 29s 37ms/step - loss: 0.7212 - accuracy: 0.7515 - val_loss: 0.7159 - val_accuracy: 0.7579\n",
            "Epoch 9/50\n",
            "781/781 [==============================] - 28s 35ms/step - loss: 0.6893 - accuracy: 0.7651 - val_loss: 0.6002 - val_accuracy: 0.7959\n",
            "Epoch 10/50\n",
            "781/781 [==============================] - 27s 35ms/step - loss: 0.6550 - accuracy: 0.7764 - val_loss: 0.5627 - val_accuracy: 0.8102\n",
            "Epoch 11/50\n",
            "781/781 [==============================] - 27s 35ms/step - loss: 0.6378 - accuracy: 0.7823 - val_loss: 0.6229 - val_accuracy: 0.7892\n",
            "Epoch 12/50\n",
            "781/781 [==============================] - 27s 35ms/step - loss: 0.6137 - accuracy: 0.7898 - val_loss: 0.5935 - val_accuracy: 0.8003\n",
            "Epoch 13/50\n",
            "781/781 [==============================] - 27s 35ms/step - loss: 0.5960 - accuracy: 0.7964 - val_loss: 0.5874 - val_accuracy: 0.8016\n",
            "Epoch 14/50\n",
            "781/781 [==============================] - 27s 35ms/step - loss: 0.5815 - accuracy: 0.8023 - val_loss: 0.5318 - val_accuracy: 0.8210\n",
            "Epoch 15/50\n",
            "781/781 [==============================] - 27s 35ms/step - loss: 0.5635 - accuracy: 0.8091 - val_loss: 0.5135 - val_accuracy: 0.8260\n",
            "Epoch 16/50\n",
            "781/781 [==============================] - 28s 35ms/step - loss: 0.5524 - accuracy: 0.8128 - val_loss: 0.4899 - val_accuracy: 0.8393\n",
            "Epoch 17/50\n",
            "781/781 [==============================] - 28s 36ms/step - loss: 0.5391 - accuracy: 0.8168 - val_loss: 0.5280 - val_accuracy: 0.8252\n",
            "Epoch 18/50\n",
            "781/781 [==============================] - 27s 35ms/step - loss: 0.5253 - accuracy: 0.8213 - val_loss: 0.4778 - val_accuracy: 0.8446\n",
            "Epoch 19/50\n",
            "781/781 [==============================] - 27s 35ms/step - loss: 0.5184 - accuracy: 0.8244 - val_loss: 0.5164 - val_accuracy: 0.8295\n",
            "Epoch 20/50\n",
            "781/781 [==============================] - 27s 35ms/step - loss: 0.5073 - accuracy: 0.8278 - val_loss: 0.5413 - val_accuracy: 0.8222\n",
            "Epoch 21/50\n",
            "781/781 [==============================] - 28s 35ms/step - loss: 0.5007 - accuracy: 0.8312 - val_loss: 0.4784 - val_accuracy: 0.8380\n",
            "Epoch 22/50\n",
            "781/781 [==============================] - 27s 35ms/step - loss: 0.4922 - accuracy: 0.8324 - val_loss: 0.5779 - val_accuracy: 0.8143\n",
            "Epoch 23/50\n",
            "781/781 [==============================] - 28s 35ms/step - loss: 0.4848 - accuracy: 0.8347 - val_loss: 0.5005 - val_accuracy: 0.8353\n",
            "Epoch 24/50\n",
            "781/781 [==============================] - 28s 35ms/step - loss: 0.4745 - accuracy: 0.8382 - val_loss: 0.4972 - val_accuracy: 0.8413\n",
            "Epoch 25/50\n",
            "781/781 [==============================] - 27s 35ms/step - loss: 0.4720 - accuracy: 0.8399 - val_loss: 0.4341 - val_accuracy: 0.8538\n",
            "Epoch 26/50\n",
            "781/781 [==============================] - 27s 35ms/step - loss: 0.4623 - accuracy: 0.8453 - val_loss: 0.4431 - val_accuracy: 0.8534\n",
            "Epoch 27/50\n",
            "781/781 [==============================] - 27s 35ms/step - loss: 0.4521 - accuracy: 0.8471 - val_loss: 0.5025 - val_accuracy: 0.8393\n",
            "Epoch 28/50\n",
            "781/781 [==============================] - 27s 35ms/step - loss: 0.4532 - accuracy: 0.8458 - val_loss: 0.4446 - val_accuracy: 0.8540\n",
            "Epoch 29/50\n",
            "781/781 [==============================] - 28s 36ms/step - loss: 0.4495 - accuracy: 0.8472 - val_loss: 0.4394 - val_accuracy: 0.8537\n",
            "Epoch 30/50\n",
            "781/781 [==============================] - 27s 35ms/step - loss: 0.4391 - accuracy: 0.8513 - val_loss: 0.4129 - val_accuracy: 0.8625\n",
            "Epoch 31/50\n",
            "781/781 [==============================] - 26s 34ms/step - loss: 0.4309 - accuracy: 0.8526 - val_loss: 0.4050 - val_accuracy: 0.8675\n",
            "Epoch 32/50\n",
            "781/781 [==============================] - 27s 35ms/step - loss: 0.4337 - accuracy: 0.8537 - val_loss: 0.4085 - val_accuracy: 0.8652\n",
            "Epoch 33/50\n",
            "781/781 [==============================] - 27s 35ms/step - loss: 0.4262 - accuracy: 0.8546 - val_loss: 0.4098 - val_accuracy: 0.8648\n",
            "Epoch 34/50\n",
            "781/781 [==============================] - 27s 35ms/step - loss: 0.4211 - accuracy: 0.8559 - val_loss: 0.4475 - val_accuracy: 0.8541\n",
            "Epoch 35/50\n",
            "781/781 [==============================] - 27s 35ms/step - loss: 0.4210 - accuracy: 0.8573 - val_loss: 0.4310 - val_accuracy: 0.8618\n",
            "Epoch 36/50\n",
            "781/781 [==============================] - 27s 35ms/step - loss: 0.4149 - accuracy: 0.8599 - val_loss: 0.4200 - val_accuracy: 0.8612\n",
            "Epoch 37/50\n",
            "781/781 [==============================] - 27s 35ms/step - loss: 0.4079 - accuracy: 0.8616 - val_loss: 0.4373 - val_accuracy: 0.8550\n",
            "Epoch 38/50\n",
            "781/781 [==============================] - 28s 36ms/step - loss: 0.4082 - accuracy: 0.8616 - val_loss: 0.4216 - val_accuracy: 0.8597\n",
            "Epoch 39/50\n",
            "781/781 [==============================] - 27s 35ms/step - loss: 0.4073 - accuracy: 0.8619 - val_loss: 0.3801 - val_accuracy: 0.8752\n",
            "Epoch 40/50\n",
            "781/781 [==============================] - 27s 35ms/step - loss: 0.4019 - accuracy: 0.8617 - val_loss: 0.4254 - val_accuracy: 0.8615\n",
            "Epoch 41/50\n",
            "781/781 [==============================] - 27s 35ms/step - loss: 0.3983 - accuracy: 0.8636 - val_loss: 0.3891 - val_accuracy: 0.8743\n",
            "Epoch 42/50\n",
            "781/781 [==============================] - 28s 36ms/step - loss: 0.3908 - accuracy: 0.8667 - val_loss: 0.4175 - val_accuracy: 0.8657\n",
            "Epoch 43/50\n",
            "781/781 [==============================] - 28s 36ms/step - loss: 0.3975 - accuracy: 0.8645 - val_loss: 0.4385 - val_accuracy: 0.8588\n",
            "Epoch 44/50\n",
            "781/781 [==============================] - 28s 35ms/step - loss: 0.3921 - accuracy: 0.8685 - val_loss: 0.4924 - val_accuracy: 0.8440\n",
            "Epoch 45/50\n",
            "781/781 [==============================] - 27s 35ms/step - loss: 0.3833 - accuracy: 0.8703 - val_loss: 0.3534 - val_accuracy: 0.8799\n",
            "Epoch 46/50\n",
            "781/781 [==============================] - 27s 35ms/step - loss: 0.3830 - accuracy: 0.8685 - val_loss: 0.3930 - val_accuracy: 0.8716\n",
            "Epoch 47/50\n",
            "781/781 [==============================] - 28s 36ms/step - loss: 0.3810 - accuracy: 0.8715 - val_loss: 0.3734 - val_accuracy: 0.8768\n",
            "Epoch 48/50\n",
            "781/781 [==============================] - 28s 35ms/step - loss: 0.3787 - accuracy: 0.8712 - val_loss: 0.3848 - val_accuracy: 0.8739\n",
            "Epoch 49/50\n",
            "781/781 [==============================] - 27s 35ms/step - loss: 0.3749 - accuracy: 0.8727 - val_loss: 0.4476 - val_accuracy: 0.8598\n",
            "Epoch 50/50\n",
            "781/781 [==============================] - 27s 35ms/step - loss: 0.3763 - accuracy: 0.8727 - val_loss: 0.3654 - val_accuracy: 0.8793\n"
          ]
        }
      ]
    },
    {
      "cell_type": "code",
      "source": [],
      "metadata": {
        "id": "hb1JtrkMOnZP"
      },
      "execution_count": null,
      "outputs": []
    }
  ]
}